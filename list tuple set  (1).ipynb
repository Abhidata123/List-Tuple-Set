{
 "cells": [
  {
   "cell_type": "code",
   "execution_count": 1,
   "id": "1abc9870-5ebb-449b-9318-4ebee6c3302c",
   "metadata": {},
   "outputs": [],
   "source": [
    "l=[1, 345, 'abhi', 5+6j, True, 456.34] # list can store multiple type of data "
   ]
  },
  {
   "cell_type": "code",
   "execution_count": 2,
   "id": "fe05eff4-f4ea-4605-8340-cec9828b5f3f",
   "metadata": {},
   "outputs": [
    {
     "data": {
      "text/plain": [
       "list"
      ]
     },
     "execution_count": 2,
     "metadata": {},
     "output_type": "execute_result"
    }
   ],
   "source": [
    "type(l) # to check which type of data stored in variable l"
   ]
  },
  {
   "cell_type": "code",
   "execution_count": 3,
   "id": "130c4107-d510-4aa2-86a6-6d7542302bb9",
   "metadata": {},
   "outputs": [
    {
     "data": {
      "text/plain": [
       "345"
      ]
     },
     "execution_count": 3,
     "metadata": {},
     "output_type": "execute_result"
    }
   ],
   "source": [
    "l[1]"
   ]
  },
  {
   "cell_type": "code",
   "execution_count": 4,
   "id": "282ce1ac-0252-4cff-b398-667db00cabcb",
   "metadata": {},
   "outputs": [
    {
     "data": {
      "text/plain": [
       "456.34"
      ]
     },
     "execution_count": 4,
     "metadata": {},
     "output_type": "execute_result"
    }
   ],
   "source": [
    "l[5]"
   ]
  },
  {
   "cell_type": "code",
   "execution_count": 5,
   "id": "01761218-e06a-4176-929f-dd665c3cfe34",
   "metadata": {},
   "outputs": [
    {
     "data": {
      "text/plain": [
       "[1, 345, 'abhi']"
      ]
     },
     "execution_count": 5,
     "metadata": {},
     "output_type": "execute_result"
    }
   ],
   "source": [
    "l[0:3] # idexing in the list to print the element upto certain range"
   ]
  },
  {
   "cell_type": "code",
   "execution_count": 6,
   "id": "6719dd51-4570-4339-8d7a-f0fdaebee57c",
   "metadata": {},
   "outputs": [
    {
     "data": {
      "text/plain": [
       "456.34"
      ]
     },
     "execution_count": 6,
     "metadata": {},
     "output_type": "execute_result"
    }
   ],
   "source": [
    "l[-1] # print the last element of the list"
   ]
  },
  {
   "cell_type": "code",
   "execution_count": 7,
   "id": "ca86b0db-c53a-4c91-9b88-5abfa2e57cb5",
   "metadata": {},
   "outputs": [
    {
     "data": {
      "text/plain": [
       "[456.34, True, (5+6j), 'abhi', 345, 1]"
      ]
     },
     "execution_count": 7,
     "metadata": {},
     "output_type": "execute_result"
    }
   ],
   "source": [
    "l[::-1] # for printing the element in the list in reverse order ( or jumping of '1' element)"
   ]
  },
  {
   "cell_type": "code",
   "execution_count": 8,
   "id": "e887427c-bcae-42d1-81ab-1f394379acb2",
   "metadata": {},
   "outputs": [
    {
     "data": {
      "text/plain": [
       "[1, 'abhi', True]"
      ]
     },
     "execution_count": 8,
     "metadata": {},
     "output_type": "execute_result"
    }
   ],
   "source": [
    "l[::2] # for pritning the element in the list after jumping of '2'"
   ]
  },
  {
   "cell_type": "code",
   "execution_count": 9,
   "id": "5a5c9988-5cf9-4b90-b8b6-a353cad1f85c",
   "metadata": {},
   "outputs": [],
   "source": [
    "s = 'pwskills'"
   ]
  },
  {
   "cell_type": "code",
   "execution_count": 10,
   "id": "ba426a89-cd78-46ee-805a-d21cda23b128",
   "metadata": {},
   "outputs": [
    {
     "data": {
      "text/plain": [
       "['p', 'w', 's', 'k', 'i', 'l', 'l', 's']"
      ]
     },
     "execution_count": 10,
     "metadata": {},
     "output_type": "execute_result"
    }
   ],
   "source": [
    "list(s) # list function convert string into list"
   ]
  },
  {
   "cell_type": "code",
   "execution_count": 11,
   "id": "a1e16175-2e91-485a-a0a3-eafe2fdfc48d",
   "metadata": {},
   "outputs": [
    {
     "ename": "TypeError",
     "evalue": "can only concatenate list (not \"str\") to list",
     "output_type": "error",
     "traceback": [
      "\u001b[0;31m---------------------------------------------------------------------------\u001b[0m",
      "\u001b[0;31mTypeError\u001b[0m                                 Traceback (most recent call last)",
      "Cell \u001b[0;32mIn[11], line 1\u001b[0m\n\u001b[0;32m----> 1\u001b[0m \u001b[43ml\u001b[49m\u001b[38;5;241;43m+\u001b[39;49m\u001b[43ms\u001b[49m\n",
      "\u001b[0;31mTypeError\u001b[0m: can only concatenate list (not \"str\") to list"
     ]
    }
   ],
   "source": [
    "l+s"
   ]
  },
  {
   "cell_type": "code",
   "execution_count": 12,
   "id": "0e43f97b-18ef-4291-a4f6-4fc8241e92c8",
   "metadata": {},
   "outputs": [
    {
     "data": {
      "text/plain": [
       "['p', 'w', 's', 'k', 'i', 'l', 'l', 's', 1, 345, 'abhi', (5+6j), True, 456.34]"
      ]
     },
     "execution_count": 12,
     "metadata": {},
     "output_type": "execute_result"
    }
   ],
   "source": [
    "list(s)+l"
   ]
  },
  {
   "cell_type": "code",
   "execution_count": 13,
   "id": "a12a7049-5bb4-4ff8-ba2f-b87e31c8ea3e",
   "metadata": {},
   "outputs": [
    {
     "data": {
      "text/plain": [
       "[1, 345, 'abhi', (5+6j), True, 456.34]"
      ]
     },
     "execution_count": 13,
     "metadata": {},
     "output_type": "execute_result"
    }
   ],
   "source": [
    "l"
   ]
  },
  {
   "cell_type": "code",
   "execution_count": 14,
   "id": "19b6e0c8-36a6-4203-ad73-c62faa77247a",
   "metadata": {},
   "outputs": [
    {
     "data": {
      "text/plain": [
       "'abhi'"
      ]
     },
     "execution_count": 14,
     "metadata": {},
     "output_type": "execute_result"
    }
   ],
   "source": [
    "l[2]"
   ]
  },
  {
   "cell_type": "code",
   "execution_count": 15,
   "id": "0866a982-026e-41ae-a682-50fade0512ca",
   "metadata": {},
   "outputs": [
    {
     "data": {
      "text/plain": [
       "'ab'"
      ]
     },
     "execution_count": 15,
     "metadata": {},
     "output_type": "execute_result"
    }
   ],
   "source": [
    "l[2][0:2]"
   ]
  },
  {
   "cell_type": "code",
   "execution_count": 16,
   "id": "4630c9e0-3dc2-4e1a-b9dd-718242e8e3e8",
   "metadata": {},
   "outputs": [
    {
     "data": {
      "text/plain": [
       "456.34"
      ]
     },
     "execution_count": 16,
     "metadata": {},
     "output_type": "execute_result"
    }
   ],
   "source": [
    "l[5]"
   ]
  },
  {
   "cell_type": "code",
   "execution_count": 17,
   "id": "0116f409-5077-48ab-8ca9-2fa882a9ed8e",
   "metadata": {},
   "outputs": [
    {
     "data": {
      "text/plain": [
       "True"
      ]
     },
     "execution_count": 17,
     "metadata": {},
     "output_type": "execute_result"
    }
   ],
   "source": [
    "l[4]"
   ]
  },
  {
   "cell_type": "code",
   "execution_count": 19,
   "id": "c513f769-a270-4ee9-b7b8-af65ad0f34c7",
   "metadata": {},
   "outputs": [
    {
     "ename": "TypeError",
     "evalue": "'bool' object is not subscriptable",
     "output_type": "error",
     "traceback": [
      "\u001b[0;31m---------------------------------------------------------------------------\u001b[0m",
      "\u001b[0;31mTypeError\u001b[0m                                 Traceback (most recent call last)",
      "Cell \u001b[0;32mIn[19], line 1\u001b[0m\n\u001b[0;32m----> 1\u001b[0m \u001b[43ml\u001b[49m\u001b[43m[\u001b[49m\u001b[38;5;241;43m4\u001b[39;49m\u001b[43m]\u001b[49m\u001b[43m[\u001b[49m\u001b[38;5;241;43m0\u001b[39;49m\u001b[43m:\u001b[49m\u001b[38;5;241;43m2\u001b[39;49m\u001b[43m]\u001b[49m\n",
      "\u001b[0;31mTypeError\u001b[0m: 'bool' object is not subscriptable"
     ]
    }
   ],
   "source": [
    "l[4][0:2] # not possible to differenciate the boolean function"
   ]
  },
  {
   "cell_type": "code",
   "execution_count": 21,
   "id": "3f33021b-45e4-4ab1-9727-69d86ee9ae28",
   "metadata": {},
   "outputs": [
    {
     "data": {
      "text/plain": [
       "'True'"
      ]
     },
     "execution_count": 21,
     "metadata": {},
     "output_type": "execute_result"
    }
   ],
   "source": [
    "str(l[4]) # convert list into string by typecasting "
   ]
  },
  {
   "cell_type": "code",
   "execution_count": 22,
   "id": "0e26e26b-5a67-4c3d-9969-1a02a537bb6a",
   "metadata": {},
   "outputs": [
    {
     "data": {
      "text/plain": [
       "'Tr'"
      ]
     },
     "execution_count": 22,
     "metadata": {},
     "output_type": "execute_result"
    }
   ],
   "source": [
    "str(l[4])[0:2]"
   ]
  },
  {
   "cell_type": "code",
   "execution_count": 23,
   "id": "b657e140-b60b-41f6-ab96-61feddadf93d",
   "metadata": {},
   "outputs": [
    {
     "ename": "TypeError",
     "evalue": "can only concatenate list (not \"int\") to list",
     "output_type": "error",
     "traceback": [
      "\u001b[0;31m---------------------------------------------------------------------------\u001b[0m",
      "\u001b[0;31mTypeError\u001b[0m                                 Traceback (most recent call last)",
      "Cell \u001b[0;32mIn[23], line 1\u001b[0m\n\u001b[0;32m----> 1\u001b[0m \u001b[43ml\u001b[49m\u001b[38;5;241;43m+\u001b[39;49m\u001b[38;5;241;43m5\u001b[39;49m\n",
      "\u001b[0;31mTypeError\u001b[0m: can only concatenate list (not \"int\") to list"
     ]
    }
   ],
   "source": [
    "l+5"
   ]
  },
  {
   "cell_type": "code",
   "execution_count": 24,
   "id": "b6438fdb-86a1-42b9-b030-69bfcaebb10b",
   "metadata": {},
   "outputs": [],
   "source": [
    "l1=[3,4,5]"
   ]
  },
  {
   "cell_type": "code",
   "execution_count": 25,
   "id": "1e728056-d371-4ce8-8fed-b02b2abe1472",
   "metadata": {},
   "outputs": [
    {
     "data": {
      "text/plain": [
       "[1, 345, 'abhi', (5+6j), True, 456.34, 3, 4, 5]"
      ]
     },
     "execution_count": 25,
     "metadata": {},
     "output_type": "execute_result"
    }
   ],
   "source": [
    "l+l1"
   ]
  },
  {
   "cell_type": "code",
   "execution_count": 26,
   "id": "e0c33973-e2ad-4bf7-9f13-a92331e6ccf0",
   "metadata": {},
   "outputs": [
    {
     "data": {
      "text/plain": [
       "[3, 4, 5]"
      ]
     },
     "execution_count": 26,
     "metadata": {},
     "output_type": "execute_result"
    }
   ],
   "source": [
    "l1"
   ]
  },
  {
   "cell_type": "code",
   "execution_count": 27,
   "id": "dc80f820-4204-413c-a1f6-eb2957fe4f3b",
   "metadata": {},
   "outputs": [
    {
     "data": {
      "text/plain": [
       "[3, 4, 5, 3, 4, 5, 3, 4, 5]"
      ]
     },
     "execution_count": 27,
     "metadata": {},
     "output_type": "execute_result"
    }
   ],
   "source": [
    "l1*3 # repeat the number into number of times as it is multiplied by that "
   ]
  },
  {
   "cell_type": "code",
   "execution_count": 28,
   "id": "3f86fbe3-5d80-4bea-9964-57f5796a004d",
   "metadata": {},
   "outputs": [],
   "source": [
    "l.append(5) # append us used to add the element at the end of the list"
   ]
  },
  {
   "cell_type": "code",
   "execution_count": 29,
   "id": "d6ace7c8-4574-4d34-b816-b4c9793a91fd",
   "metadata": {},
   "outputs": [
    {
     "data": {
      "text/plain": [
       "[1, 345, 'abhi', (5+6j), True, 456.34, 5]"
      ]
     },
     "execution_count": 29,
     "metadata": {},
     "output_type": "execute_result"
    }
   ],
   "source": [
    "l"
   ]
  },
  {
   "cell_type": "code",
   "execution_count": 30,
   "id": "c606c9c3-d8cf-44b6-8535-a5430b76b561",
   "metadata": {},
   "outputs": [],
   "source": [
    "l.append(s) # 'tab' key is used to see types of function and 'shift + tab' key is used to see what function do."
   ]
  },
  {
   "cell_type": "code",
   "execution_count": 31,
   "id": "5f9b20f7-d78e-4e5b-9ac1-77cd8dfe0fe9",
   "metadata": {},
   "outputs": [
    {
     "data": {
      "text/plain": [
       "[1, 345, 'abhi', (5+6j), True, 456.34, 5, 'pwskills']"
      ]
     },
     "execution_count": 31,
     "metadata": {},
     "output_type": "execute_result"
    }
   ],
   "source": [
    "l"
   ]
  },
  {
   "cell_type": "code",
   "execution_count": 2,
   "id": "f7fd2fa9-22bb-4e3e-b37c-721d043969a2",
   "metadata": {},
   "outputs": [
    {
     "ename": "NameError",
     "evalue": "name 'l' is not defined",
     "output_type": "error",
     "traceback": [
      "\u001b[0;31m---------------------------------------------------------------------------\u001b[0m",
      "\u001b[0;31mNameError\u001b[0m                                 Traceback (most recent call last)",
      "Cell \u001b[0;32mIn[2], line 1\u001b[0m\n\u001b[0;32m----> 1\u001b[0m \u001b[43ml\u001b[49m[\u001b[38;5;241m-\u001b[39m\u001b[38;5;241m1\u001b[39m]\n",
      "\u001b[0;31mNameError\u001b[0m: name 'l' is not defined"
     ]
    }
   ],
   "source": [
    "l[-1]"
   ]
  },
  {
   "cell_type": "code",
   "execution_count": 1,
   "id": "720745c4-9643-438d-943a-a4dd5b8273f0",
   "metadata": {},
   "outputs": [
    {
     "ename": "NameError",
     "evalue": "name 'l' is not defined",
     "output_type": "error",
     "traceback": [
      "\u001b[0;31m---------------------------------------------------------------------------\u001b[0m",
      "\u001b[0;31mNameError\u001b[0m                                 Traceback (most recent call last)",
      "Cell \u001b[0;32mIn[1], line 1\u001b[0m\n\u001b[0;32m----> 1\u001b[0m \u001b[43ml\u001b[49m\n",
      "\u001b[0;31mNameError\u001b[0m: name 'l' is not defined"
     ]
    }
   ],
   "source": []
  },
  {
   "cell_type": "code",
   "execution_count": 2,
   "id": "8f8965b9-34cd-4042-8b89-78462e4e81a3",
   "metadata": {},
   "outputs": [
    {
     "ename": "NameError",
     "evalue": "name 'l' is not defined",
     "output_type": "error",
     "traceback": [
      "\u001b[0;31m---------------------------------------------------------------------------\u001b[0m",
      "\u001b[0;31mNameError\u001b[0m                                 Traceback (most recent call last)",
      "Cell \u001b[0;32mIn[2], line 1\u001b[0m\n\u001b[0;32m----> 1\u001b[0m \u001b[43ml\u001b[49m\n",
      "\u001b[0;31mNameError\u001b[0m: name 'l' is not defined"
     ]
    }
   ],
   "source": []
  },
  {
   "cell_type": "code",
   "execution_count": 1,
   "id": "8073c6dc-170e-4f4f-963b-c4e99d56c535",
   "metadata": {},
   "outputs": [
    {
     "ename": "NameError",
     "evalue": "name 'l' is not defined",
     "output_type": "error",
     "traceback": [
      "\u001b[0;31m---------------------------------------------------------------------------\u001b[0m",
      "\u001b[0;31mNameError\u001b[0m                                 Traceback (most recent call last)",
      "Cell \u001b[0;32mIn[1], line 1\u001b[0m\n\u001b[0;32m----> 1\u001b[0m \u001b[43ml\u001b[49m\n",
      "\u001b[0;31mNameError\u001b[0m: name 'l' is not defined"
     ]
    }
   ],
   "source": [
    "l"
   ]
  },
  {
   "cell_type": "code",
   "execution_count": 2,
   "id": "60232c5a-5e54-4a79-ac12-fcf475a82eed",
   "metadata": {},
   "outputs": [
    {
     "ename": "NameError",
     "evalue": "name 'l' is not defined",
     "output_type": "error",
     "traceback": [
      "\u001b[0;31m---------------------------------------------------------------------------\u001b[0m",
      "\u001b[0;31mNameError\u001b[0m                                 Traceback (most recent call last)",
      "Cell \u001b[0;32mIn[2], line 1\u001b[0m\n\u001b[0;32m----> 1\u001b[0m \u001b[43ml\u001b[49m\n",
      "\u001b[0;31mNameError\u001b[0m: name 'l' is not defined"
     ]
    }
   ],
   "source": [
    "l"
   ]
  },
  {
   "cell_type": "code",
   "execution_count": 3,
   "id": "ed3b089c-535b-49fb-883e-115faed52b60",
   "metadata": {},
   "outputs": [
    {
     "ename": "NameError",
     "evalue": "name 'l' is not defined",
     "output_type": "error",
     "traceback": [
      "\u001b[0;31m---------------------------------------------------------------------------\u001b[0m",
      "\u001b[0;31mNameError\u001b[0m                                 Traceback (most recent call last)",
      "Cell \u001b[0;32mIn[3], line 1\u001b[0m\n\u001b[0;32m----> 1\u001b[0m \u001b[43ml\u001b[49m\n",
      "\u001b[0;31mNameError\u001b[0m: name 'l' is not defined"
     ]
    }
   ],
   "source": [
    "l"
   ]
  },
  {
   "cell_type": "code",
   "execution_count": 1,
   "id": "d874ea59-d2ca-40bf-99b0-1376e9357671",
   "metadata": {},
   "outputs": [],
   "source": [
    "l = [1, 345, 'abhi', (5+6j), True, 456.34, 5, 'pwskills']"
   ]
  },
  {
   "cell_type": "code",
   "execution_count": 2,
   "id": "cccdcbc7-905c-4ba0-a26d-3a4d3c035414",
   "metadata": {},
   "outputs": [
    {
     "data": {
      "text/plain": [
       "[1, 345, 'abhi', (5+6j), True, 456.34, 5, 'pwskills']"
      ]
     },
     "execution_count": 2,
     "metadata": {},
     "output_type": "execute_result"
    }
   ],
   "source": [
    "l"
   ]
  },
  {
   "cell_type": "code",
   "execution_count": 3,
   "id": "b8aa6895-64fa-44e4-a2ea-22587a9450c7",
   "metadata": {},
   "outputs": [],
   "source": [
    "l1 = [3, 4, 5]"
   ]
  },
  {
   "cell_type": "code",
   "execution_count": 4,
   "id": "9e933079-145a-46a4-b803-16838e6d79d3",
   "metadata": {},
   "outputs": [
    {
     "data": {
      "text/plain": [
       "[3, 4, 5]"
      ]
     },
     "execution_count": 4,
     "metadata": {},
     "output_type": "execute_result"
    }
   ],
   "source": [
    "l1"
   ]
  },
  {
   "cell_type": "code",
   "execution_count": 5,
   "id": "917e50c8-3dac-4937-97bb-c00e98f986b5",
   "metadata": {},
   "outputs": [],
   "source": [
    "l.append(l1)"
   ]
  },
  {
   "cell_type": "code",
   "execution_count": 6,
   "id": "533f6386-9e20-454c-b527-7cde6d142589",
   "metadata": {},
   "outputs": [
    {
     "data": {
      "text/plain": [
       "[1, 345, 'abhi', (5+6j), True, 456.34, 5, 'pwskills', [3, 4, 5]]"
      ]
     },
     "execution_count": 6,
     "metadata": {},
     "output_type": "execute_result"
    }
   ],
   "source": [
    "l"
   ]
  },
  {
   "cell_type": "code",
   "execution_count": 7,
   "id": "4d5d73d8-95e3-4b58-afb1-41bc808837ec",
   "metadata": {},
   "outputs": [
    {
     "data": {
      "text/plain": [
       "4"
      ]
     },
     "execution_count": 7,
     "metadata": {},
     "output_type": "execute_result"
    }
   ],
   "source": [
    "l[-1][1]"
   ]
  },
  {
   "cell_type": "code",
   "execution_count": 8,
   "id": "2cc59f76-5038-45e5-994f-18f1c4acd315",
   "metadata": {},
   "outputs": [],
   "source": [
    "l.extend('saxena') # extend append the data but in iterable and sepration way."
   ]
  },
  {
   "cell_type": "code",
   "execution_count": 9,
   "id": "e9b36b25-7f65-4e9a-9613-324dd780496b",
   "metadata": {},
   "outputs": [
    {
     "data": {
      "text/plain": [
       "[1,\n",
       " 345,\n",
       " 'abhi',\n",
       " (5+6j),\n",
       " True,\n",
       " 456.34,\n",
       " 5,\n",
       " 'pwskills',\n",
       " [3, 4, 5],\n",
       " 's',\n",
       " 'a',\n",
       " 'x',\n",
       " 'e',\n",
       " 'n',\n",
       " 'a']"
      ]
     },
     "execution_count": 9,
     "metadata": {},
     "output_type": "execute_result"
    }
   ],
   "source": [
    "l"
   ]
  },
  {
   "cell_type": "code",
   "execution_count": 10,
   "id": "f3a61bd7-2abd-4c35-8b61-e4001aa95471",
   "metadata": {},
   "outputs": [],
   "source": [
    "l.extend([9,7,6,5])"
   ]
  },
  {
   "cell_type": "code",
   "execution_count": 11,
   "id": "8c9548ba-04cf-4be3-8e7b-321f8c5fd02e",
   "metadata": {},
   "outputs": [
    {
     "data": {
      "text/plain": [
       "[1,\n",
       " 345,\n",
       " 'abhi',\n",
       " (5+6j),\n",
       " True,\n",
       " 456.34,\n",
       " 5,\n",
       " 'pwskills',\n",
       " [3, 4, 5],\n",
       " 's',\n",
       " 'a',\n",
       " 'x',\n",
       " 'e',\n",
       " 'n',\n",
       " 'a',\n",
       " 9,\n",
       " 7,\n",
       " 6,\n",
       " 5]"
      ]
     },
     "execution_count": 11,
     "metadata": {},
     "output_type": "execute_result"
    }
   ],
   "source": [
    "l"
   ]
  },
  {
   "cell_type": "code",
   "execution_count": 12,
   "id": "872a0eb9-e4aa-4932-8b1c-ff0bc708ac6d",
   "metadata": {},
   "outputs": [],
   "source": [
    "# Difference between append and extend\n",
    "# Append () function us used to add the data as it is before extend or unwrap while extend() function works in the manner of that \n",
    "# it firstly unwrap the data then add into the list. These function add the data at the end of the list."
   ]
  },
  {
   "cell_type": "code",
   "execution_count": 13,
   "id": "559263ef-fa14-45d6-bbf7-14e8dc85977c",
   "metadata": {},
   "outputs": [
    {
     "data": {
      "text/plain": [
       "[3, 4, 5]"
      ]
     },
     "execution_count": 13,
     "metadata": {},
     "output_type": "execute_result"
    }
   ],
   "source": [
    "l1"
   ]
  },
  {
   "cell_type": "code",
   "execution_count": 14,
   "id": "e1f1b423-ce84-4fdc-a479-fbc313a4c4aa",
   "metadata": {},
   "outputs": [],
   "source": [
    "l1.insert(1, \"abhi\") # insert() function is used to add the data before the index of any location in the list."
   ]
  },
  {
   "cell_type": "code",
   "execution_count": 15,
   "id": "88f42282-7b82-49a0-b84d-a8dcbf0867ee",
   "metadata": {},
   "outputs": [
    {
     "data": {
      "text/plain": [
       "[3, 'abhi', 4, 5]"
      ]
     },
     "execution_count": 15,
     "metadata": {},
     "output_type": "execute_result"
    }
   ],
   "source": [
    "l1"
   ]
  },
  {
   "cell_type": "code",
   "execution_count": 16,
   "id": "c6058bfc-5ee5-4ff1-88bd-8f7a2fe23db7",
   "metadata": {},
   "outputs": [],
   "source": [
    "l1.insert(2,[4,5,7])"
   ]
  },
  {
   "cell_type": "code",
   "execution_count": 17,
   "id": "a628090b-1a35-4592-ada0-3d2de5142fba",
   "metadata": {},
   "outputs": [
    {
     "data": {
      "text/plain": [
       "[3, 'abhi', [4, 5, 7], 4, 5]"
      ]
     },
     "execution_count": 17,
     "metadata": {},
     "output_type": "execute_result"
    }
   ],
   "source": [
    "l1"
   ]
  },
  {
   "cell_type": "code",
   "execution_count": 20,
   "id": "fc529ab7-f8de-4b55-8bf7-ac4729165a2b",
   "metadata": {},
   "outputs": [],
   "source": [
    "l1.insert(-1,98) # in which the value is inserted at the last (-1) but it shift the last number in the before index position."
   ]
  },
  {
   "cell_type": "code",
   "execution_count": 21,
   "id": "658c6b80-5a8f-4d9d-964e-86d7fc785acf",
   "metadata": {},
   "outputs": [
    {
     "data": {
      "text/plain": [
       "[3, 'abhi', [4, 5, 7], 4, 56, 98, 5]"
      ]
     },
     "execution_count": 21,
     "metadata": {},
     "output_type": "execute_result"
    }
   ],
   "source": [
    "l1"
   ]
  },
  {
   "cell_type": "code",
   "execution_count": 22,
   "id": "be214b52-9b25-44f1-9654-3aea3aa0ad75",
   "metadata": {},
   "outputs": [
    {
     "data": {
      "text/plain": [
       "5"
      ]
     },
     "execution_count": 22,
     "metadata": {},
     "output_type": "execute_result"
    }
   ],
   "source": [
    "l1.pop() # by default pop function deletes the last item of the list.[It takes the default -1 index until it is assigned] "
   ]
  },
  {
   "cell_type": "code",
   "execution_count": 23,
   "id": "679f4962-e42a-4b7d-9f0a-7ef4d3bec23f",
   "metadata": {},
   "outputs": [
    {
     "data": {
      "text/plain": [
       "[3, 'abhi', [4, 5, 7], 4, 56, 98]"
      ]
     },
     "execution_count": 23,
     "metadata": {},
     "output_type": "execute_result"
    }
   ],
   "source": [
    "l1"
   ]
  },
  {
   "cell_type": "code",
   "execution_count": 24,
   "id": "442148e5-11ab-4db8-92e6-266b6ad04251",
   "metadata": {},
   "outputs": [
    {
     "data": {
      "text/plain": [
       "[4, 5, 7]"
      ]
     },
     "execution_count": 24,
     "metadata": {},
     "output_type": "execute_result"
    }
   ],
   "source": [
    "l1.pop(2) # It deletes the second index item from the list."
   ]
  },
  {
   "cell_type": "code",
   "execution_count": 25,
   "id": "a73aeafa-3f0f-451a-a43b-e15de343e3ba",
   "metadata": {},
   "outputs": [
    {
     "data": {
      "text/plain": [
       "[3, 'abhi', 4, 56, 98]"
      ]
     },
     "execution_count": 25,
     "metadata": {},
     "output_type": "execute_result"
    }
   ],
   "source": [
    "l1"
   ]
  },
  {
   "cell_type": "code",
   "execution_count": 26,
   "id": "6179dabe-8047-469d-b755-5e20b0caf1cd",
   "metadata": {},
   "outputs": [],
   "source": [
    "l1.remove(56) # Remove function works on the deletion of the values on the basis of value that has been given."
   ]
  },
  {
   "cell_type": "code",
   "execution_count": 27,
   "id": "35fa05e2-0457-4586-8b63-ec0572079f5b",
   "metadata": {},
   "outputs": [
    {
     "data": {
      "text/plain": [
       "[3, 'abhi', 4, 98]"
      ]
     },
     "execution_count": 27,
     "metadata": {},
     "output_type": "execute_result"
    }
   ],
   "source": [
    "l1"
   ]
  },
  {
   "cell_type": "code",
   "execution_count": 28,
   "id": "49d7dfd1-2f80-4826-9bb8-1c22334c3690",
   "metadata": {},
   "outputs": [],
   "source": [
    "l1.insert(2,[5,7,9])"
   ]
  },
  {
   "cell_type": "code",
   "execution_count": 29,
   "id": "cef4a8a8-a2c1-4452-a15a-15a11d6e5b14",
   "metadata": {},
   "outputs": [
    {
     "data": {
      "text/plain": [
       "[3, 'abhi', [5, 7, 9], 4, 98]"
      ]
     },
     "execution_count": 29,
     "metadata": {},
     "output_type": "execute_result"
    }
   ],
   "source": [
    "l1"
   ]
  },
  {
   "cell_type": "code",
   "execution_count": 30,
   "id": "43bcf942-039e-4d87-94f0-4d1d57c31e3b",
   "metadata": {},
   "outputs": [],
   "source": [
    "l1[2].remove(7) # to remove the element from the list that is inside the given list."
   ]
  },
  {
   "cell_type": "code",
   "execution_count": 31,
   "id": "0217411f-61b9-4d00-8446-5387d2678c8f",
   "metadata": {},
   "outputs": [
    {
     "data": {
      "text/plain": [
       "[3, 'abhi', [5, 9], 4, 98]"
      ]
     },
     "execution_count": 31,
     "metadata": {},
     "output_type": "execute_result"
    }
   ],
   "source": [
    "l1"
   ]
  },
  {
   "cell_type": "code",
   "execution_count": 32,
   "id": "cf804432-e054-4b49-86c7-213cb6f4a33b",
   "metadata": {},
   "outputs": [],
   "source": [
    "# 1 hour 10 minute"
   ]
  },
  {
   "cell_type": "code",
   "execution_count": 33,
   "id": "f82171c4-3a9d-47c8-a09f-fde3735e31c6",
   "metadata": {},
   "outputs": [
    {
     "data": {
      "text/plain": [
       "[98, 4, [5, 9], 'abhi', 3]"
      ]
     },
     "execution_count": 33,
     "metadata": {},
     "output_type": "execute_result"
    }
   ],
   "source": [
    "l1[::-1] # For reverse the list # For temperory reverse"
   ]
  },
  {
   "cell_type": "code",
   "execution_count": 34,
   "id": "099a526e-becb-4411-b8b4-5952726b61b8",
   "metadata": {},
   "outputs": [],
   "source": [
    "l1.reverse() # permanent reverse"
   ]
  },
  {
   "cell_type": "code",
   "execution_count": 35,
   "id": "0969107a-13b0-4de4-9a3d-f7920abf8a02",
   "metadata": {},
   "outputs": [
    {
     "data": {
      "text/plain": [
       "[98, 4, [5, 9], 'abhi', 3]"
      ]
     },
     "execution_count": 35,
     "metadata": {},
     "output_type": "execute_result"
    }
   ],
   "source": [
    "l1"
   ]
  },
  {
   "cell_type": "code",
   "execution_count": 39,
   "id": "a0aafb73-f714-4d9d-8795-31bd72a6c2f1",
   "metadata": {},
   "outputs": [
    {
     "data": {
      "text/plain": [
       "'abhi'"
      ]
     },
     "execution_count": 39,
     "metadata": {},
     "output_type": "execute_result"
    }
   ],
   "source": [
    "l1[3] # slicing"
   ]
  },
  {
   "cell_type": "code",
   "execution_count": 2,
   "id": "3dba74a6-60cb-46a7-9500-8c65a1c3467d",
   "metadata": {},
   "outputs": [],
   "source": [
    "l1 = [98, 4, [5, 9], 'abhi', 3]"
   ]
  },
  {
   "cell_type": "code",
   "execution_count": 3,
   "id": "d45f0eb7-fa48-4651-8b96-536e5a5e1b37",
   "metadata": {},
   "outputs": [
    {
     "data": {
      "text/plain": [
       "[98, 4, [5, 9], 'abhi', 3]"
      ]
     },
     "execution_count": 3,
     "metadata": {},
     "output_type": "execute_result"
    }
   ],
   "source": [
    "l1"
   ]
  },
  {
   "cell_type": "code",
   "execution_count": 4,
   "id": "21135721-351b-453f-80c0-5eaa67125ac1",
   "metadata": {},
   "outputs": [
    {
     "ename": "TypeError",
     "evalue": "'<' not supported between instances of 'list' and 'int'",
     "output_type": "error",
     "traceback": [
      "\u001b[0;31m---------------------------------------------------------------------------\u001b[0m",
      "\u001b[0;31mTypeError\u001b[0m                                 Traceback (most recent call last)",
      "Cell \u001b[0;32mIn[4], line 1\u001b[0m\n\u001b[0;32m----> 1\u001b[0m \u001b[43ml1\u001b[49m\u001b[38;5;241;43m.\u001b[39;49m\u001b[43msort\u001b[49m\u001b[43m(\u001b[49m\u001b[43m)\u001b[49m\n",
      "\u001b[0;31mTypeError\u001b[0m: '<' not supported between instances of 'list' and 'int'"
     ]
    }
   ],
   "source": [
    "l1.sort() # sorting works on the same data type."
   ]
  },
  {
   "cell_type": "code",
   "execution_count": 12,
   "id": "c4ac9619-8e59-43d4-9647-3d75ef7b82e4",
   "metadata": {},
   "outputs": [],
   "source": [
    "l2 = [45,67,78,34,21,64,37,12]"
   ]
  },
  {
   "cell_type": "code",
   "execution_count": 17,
   "id": "6c271092-7eb8-4700-8a23-698db9f1ed28",
   "metadata": {},
   "outputs": [],
   "source": [
    "l2.sort() # l2 list has been sorted in ascending order."
   ]
  },
  {
   "cell_type": "code",
   "execution_count": 18,
   "id": "2362e895-42d5-4389-b0fe-18ef02a36486",
   "metadata": {},
   "outputs": [
    {
     "data": {
      "text/plain": [
       "[12, 21, 34, 37, 45, 64, 67, 78]"
      ]
     },
     "execution_count": 18,
     "metadata": {},
     "output_type": "execute_result"
    }
   ],
   "source": [
    "l2"
   ]
  },
  {
   "cell_type": "code",
   "execution_count": 20,
   "id": "61c1c031-e8c7-45d7-975b-5f7d99c252ed",
   "metadata": {},
   "outputs": [],
   "source": [
    "l2.sort(reverse = True) # list has been sorted in reverse order."
   ]
  },
  {
   "cell_type": "code",
   "execution_count": 21,
   "id": "71c5b93d-58b0-456b-844a-a8e7c1772cb5",
   "metadata": {},
   "outputs": [
    {
     "data": {
      "text/plain": [
       "[78, 67, 64, 45, 37, 34, 21, 12]"
      ]
     },
     "execution_count": 21,
     "metadata": {},
     "output_type": "execute_result"
    }
   ],
   "source": [
    "l2"
   ]
  },
  {
   "cell_type": "code",
   "execution_count": 23,
   "id": "02067770-0699-409d-bd72-b32f7cb5fd01",
   "metadata": {},
   "outputs": [],
   "source": [
    "l3 = ['Abhi','Saxena','pwskills','pwlabs','Data science']"
   ]
  },
  {
   "cell_type": "code",
   "execution_count": 24,
   "id": "a84d0a8c-77dc-40cf-8681-09d23e45ce55",
   "metadata": {},
   "outputs": [],
   "source": [
    "l3.sort() # sorting also works to sort the string data structure."
   ]
  },
  {
   "cell_type": "code",
   "execution_count": 26,
   "id": "2afac484-bd85-4111-956a-861039b287e9",
   "metadata": {},
   "outputs": [
    {
     "data": {
      "text/plain": [
       "['Abhi', 'Saxena', 'data science', 'pwlabs', 'pwskills']"
      ]
     },
     "execution_count": 26,
     "metadata": {},
     "output_type": "execute_result"
    }
   ],
   "source": [
    "l3"
   ]
  },
  {
   "cell_type": "code",
   "execution_count": 27,
   "id": "1085f904-8a6c-4918-a632-86b896085bc0",
   "metadata": {},
   "outputs": [],
   "source": [
    "l3.sort(reverse = True)"
   ]
  },
  {
   "cell_type": "code",
   "execution_count": 28,
   "id": "d6afe6c0-d94e-45dc-9674-ac5b04f92c6d",
   "metadata": {},
   "outputs": [
    {
     "data": {
      "text/plain": [
       "['pwskills', 'pwlabs', 'data science', 'Saxena', 'Abhi']"
      ]
     },
     "execution_count": 28,
     "metadata": {},
     "output_type": "execute_result"
    }
   ],
   "source": [
    "l3"
   ]
  },
  {
   "cell_type": "code",
   "execution_count": 29,
   "id": "d8e2846d-cd39-4f89-892a-471938f014de",
   "metadata": {},
   "outputs": [
    {
     "data": {
      "text/plain": [
       "3"
      ]
     },
     "execution_count": 29,
     "metadata": {},
     "output_type": "execute_result"
    }
   ],
   "source": [
    "l3.index('Saxena') # Return the index value of the first occurence of the object(While it is multiple times repeated) "
   ]
  },
  {
   "cell_type": "code",
   "execution_count": 30,
   "id": "fdb21140-65de-496e-a0b1-a6457e818f4e",
   "metadata": {},
   "outputs": [
    {
     "data": {
      "text/plain": [
       "1"
      ]
     },
     "execution_count": 30,
     "metadata": {},
     "output_type": "execute_result"
    }
   ],
   "source": [
    "l3.count('pwlabs') # It counts the number of repeated object."
   ]
  },
  {
   "cell_type": "code",
   "execution_count": 31,
   "id": "5eed5f18-e0c1-4b0b-843c-6665480290c9",
   "metadata": {},
   "outputs": [],
   "source": [
    "s = \"Abhishek\""
   ]
  },
  {
   "cell_type": "code",
   "execution_count": 33,
   "id": "ce23a08d-d35b-4bdd-a9a3-6862576169ce",
   "metadata": {},
   "outputs": [
    {
     "ename": "TypeError",
     "evalue": "'str' object does not support item assignment",
     "output_type": "error",
     "traceback": [
      "\u001b[0;31m---------------------------------------------------------------------------\u001b[0m",
      "\u001b[0;31mTypeError\u001b[0m                                 Traceback (most recent call last)",
      "Cell \u001b[0;32mIn[33], line 1\u001b[0m\n\u001b[0;32m----> 1\u001b[0m \u001b[43ms\u001b[49m\u001b[43m[\u001b[49m\u001b[38;5;241;43m0\u001b[39;49m\u001b[43m]\u001b[49m\u001b[38;5;241m=\u001b[39m\u001b[38;5;124m\"\u001b[39m\u001b[38;5;124mB\u001b[39m\u001b[38;5;124m\"\u001b[39m \u001b[38;5;66;03m# String is not mutable ( It changes the original index number with the new one (or same location))\u001b[39;00m\n",
      "\u001b[0;31mTypeError\u001b[0m: 'str' object does not support item assignment"
     ]
    }
   ],
   "source": [
    "s[0]=\"B\" # String is not mutable ( It changes the original index number with the new one (or same location))"
   ]
  },
  {
   "cell_type": "code",
   "execution_count": 34,
   "id": "f6eb7ecc-13cc-4375-951f-cdce8673c910",
   "metadata": {},
   "outputs": [],
   "source": [
    "p = [1,2,3,4,5,6,7,8]"
   ]
  },
  {
   "cell_type": "code",
   "execution_count": 35,
   "id": "36274b4c-302d-4d8b-84a3-f8210e896f5e",
   "metadata": {},
   "outputs": [],
   "source": [
    "p[1]= 9 # List is a mutable (it changes the original index number with the new object). \n",
    "#Orginal location of the list is updated."
   ]
  },
  {
   "cell_type": "code",
   "execution_count": 36,
   "id": "4690e8ac-902d-478d-b6d9-8dfdb6370532",
   "metadata": {},
   "outputs": [
    {
     "data": {
      "text/plain": [
       "[1, 9, 3, 4, 5, 6, 7, 8]"
      ]
     },
     "execution_count": 36,
     "metadata": {},
     "output_type": "execute_result"
    }
   ],
   "source": [
    "p"
   ]
  },
  {
   "cell_type": "code",
   "execution_count": 37,
   "id": "4a038210-d98a-46d5-9145-429c6078750d",
   "metadata": {},
   "outputs": [
    {
     "data": {
      "text/plain": [
       "'Abhishek'"
      ]
     },
     "execution_count": 37,
     "metadata": {},
     "output_type": "execute_result"
    }
   ],
   "source": [
    "s"
   ]
  },
  {
   "cell_type": "code",
   "execution_count": 39,
   "id": "7e0d4bf0-d737-41f0-8c86-60e37b22f603",
   "metadata": {},
   "outputs": [
    {
     "data": {
      "text/plain": [
       "'Bbhishek'"
      ]
     },
     "execution_count": 39,
     "metadata": {},
     "output_type": "execute_result"
    }
   ],
   "source": [
    "s.replace('A',\"B\") # it replaces the character of the object but temporary and locate it in new address. \n",
    "# Original location is not updated."
   ]
  },
  {
   "cell_type": "code",
   "execution_count": 40,
   "id": "8affcb9b-661f-4233-a33e-417d0fc6fece",
   "metadata": {},
   "outputs": [
    {
     "data": {
      "text/plain": [
       "'Abhishek'"
      ]
     },
     "execution_count": 40,
     "metadata": {},
     "output_type": "execute_result"
    }
   ],
   "source": [
    "s"
   ]
  },
  {
   "cell_type": "code",
   "execution_count": 41,
   "id": "63e6fec8-ef1f-4d54-bb60-6414c4947925",
   "metadata": {},
   "outputs": [],
   "source": [
    "# Tuples"
   ]
  },
  {
   "cell_type": "code",
   "execution_count": 42,
   "id": "f9f99dca-fff5-4fec-a5a8-f67861ce14ff",
   "metadata": {},
   "outputs": [],
   "source": [
    "t = (3,4,5,6,'Abhi','Saxena',[4,5,6],45.56,46+78j)"
   ]
  },
  {
   "cell_type": "code",
   "execution_count": 43,
   "id": "09032885-0fbc-4e20-b23a-dd2dc22f5aeb",
   "metadata": {},
   "outputs": [
    {
     "data": {
      "text/plain": [
       "(3, 4, 5, 6, 'Abhi', 'Saxena', [4, 5, 6], 45.56, (46+78j))"
      ]
     },
     "execution_count": 43,
     "metadata": {},
     "output_type": "execute_result"
    }
   ],
   "source": [
    "t"
   ]
  },
  {
   "cell_type": "code",
   "execution_count": 44,
   "id": "f26830bb-8293-4a88-a6ca-c8de9c2479eb",
   "metadata": {},
   "outputs": [
    {
     "data": {
      "text/plain": [
       "9"
      ]
     },
     "execution_count": 44,
     "metadata": {},
     "output_type": "execute_result"
    }
   ],
   "source": [
    "len(t)"
   ]
  },
  {
   "cell_type": "code",
   "execution_count": 1,
   "id": "452ac00b-8cba-427d-b9ce-f4f757a176fa",
   "metadata": {},
   "outputs": [],
   "source": [
    "t = (3,4,5,6,'Abhi','Saxena',[4,5,6],45.56,46+78j)"
   ]
  },
  {
   "cell_type": "code",
   "execution_count": 2,
   "id": "2e570e5b-230f-4b98-a38e-93320d21342d",
   "metadata": {},
   "outputs": [
    {
     "data": {
      "text/plain": [
       "(3, 4, 5, 6, 'Abhi', 'Saxena', [4, 5, 6], 45.56, (46+78j))"
      ]
     },
     "execution_count": 2,
     "metadata": {},
     "output_type": "execute_result"
    }
   ],
   "source": [
    "t"
   ]
  },
  {
   "cell_type": "code",
   "execution_count": 4,
   "id": "5cdb002f-c0a2-460b-b0c2-e092baebd989",
   "metadata": {},
   "outputs": [
    {
     "data": {
      "text/plain": [
       "3"
      ]
     },
     "execution_count": 4,
     "metadata": {},
     "output_type": "execute_result"
    }
   ],
   "source": [
    "t[0] # Print the value of the first index number."
   ]
  },
  {
   "cell_type": "code",
   "execution_count": 5,
   "id": "f60ff8bd-e427-4b85-838e-b092991c6b1d",
   "metadata": {},
   "outputs": [
    {
     "data": {
      "text/plain": [
       "(46+78j)"
      ]
     },
     "execution_count": 5,
     "metadata": {},
     "output_type": "execute_result"
    }
   ],
   "source": [
    "t[-1] # Print the value of the last index of the tuple."
   ]
  },
  {
   "cell_type": "code",
   "execution_count": 6,
   "id": "d66e267f-6d68-42d8-9c88-84be156ffea4",
   "metadata": {},
   "outputs": [
    {
     "data": {
      "text/plain": [
       "((46+78j), 45.56, [4, 5, 6], 'Saxena', 'Abhi', 6, 5, 4, 3)"
      ]
     },
     "execution_count": 6,
     "metadata": {},
     "output_type": "execute_result"
    }
   ],
   "source": [
    "t[::-1] # For reversing the tuples"
   ]
  },
  {
   "cell_type": "code",
   "execution_count": 9,
   "id": "1c7f4f10-9bdd-4874-bf8b-76d80f0c33c5",
   "metadata": {},
   "outputs": [],
   "source": [
    "l3 = ['Abhi', 'Saxena', 'data science', 'pwlabs', 'pwskills']"
   ]
  },
  {
   "cell_type": "code",
   "execution_count": 10,
   "id": "e71eb30f-ca3b-4c9a-80cc-ea3ac34ff7c0",
   "metadata": {},
   "outputs": [
    {
     "data": {
      "text/plain": [
       "['Abhi', 'Saxena', 'data science', 'pwlabs', 'pwskills']"
      ]
     },
     "execution_count": 10,
     "metadata": {},
     "output_type": "execute_result"
    }
   ],
   "source": [
    "l3"
   ]
  },
  {
   "cell_type": "code",
   "execution_count": 11,
   "id": "2a4feee4-a8a9-4172-9f13-9024eb2196ba",
   "metadata": {},
   "outputs": [],
   "source": [
    "l3[0] = 34567  # list support the mutability."
   ]
  },
  {
   "cell_type": "code",
   "execution_count": 12,
   "id": "285a7570-12e5-475e-958b-b42fe07efc7e",
   "metadata": {},
   "outputs": [
    {
     "data": {
      "text/plain": [
       "[34567, 'Saxena', 'data science', 'pwlabs', 'pwskills']"
      ]
     },
     "execution_count": 12,
     "metadata": {},
     "output_type": "execute_result"
    }
   ],
   "source": [
    "l3"
   ]
  },
  {
   "cell_type": "code",
   "execution_count": 13,
   "id": "b829ffd1-7455-4652-91d8-35d2cf9e75c3",
   "metadata": {},
   "outputs": [
    {
     "data": {
      "text/plain": [
       "(3, 4, 5, 6, 'Abhi', 'Saxena', [4, 5, 6], 45.56, (46+78j))"
      ]
     },
     "execution_count": 13,
     "metadata": {},
     "output_type": "execute_result"
    }
   ],
   "source": [
    "t"
   ]
  },
  {
   "cell_type": "code",
   "execution_count": 14,
   "id": "b05fc4c5-97be-478b-a16e-6365aecb0cc2",
   "metadata": {},
   "outputs": [
    {
     "ename": "TypeError",
     "evalue": "'tuple' object does not support item assignment",
     "output_type": "error",
     "traceback": [
      "\u001b[0;31m---------------------------------------------------------------------------\u001b[0m",
      "\u001b[0;31mTypeError\u001b[0m                                 Traceback (most recent call last)",
      "Cell \u001b[0;32mIn[14], line 1\u001b[0m\n\u001b[0;32m----> 1\u001b[0m \u001b[43mt\u001b[49m\u001b[43m[\u001b[49m\u001b[38;5;241;43m0\u001b[39;49m\u001b[43m]\u001b[49m\u001b[38;5;241m=\u001b[39m\u001b[38;5;241m5\u001b[39m\n",
      "\u001b[0;31mTypeError\u001b[0m: 'tuple' object does not support item assignment"
     ]
    }
   ],
   "source": [
    "t[0]=5 # tuple does not support the mutability."
   ]
  },
  {
   "cell_type": "code",
   "execution_count": 15,
   "id": "92c21329-1706-4411-919b-c5cf6eb85a0b",
   "metadata": {},
   "outputs": [
    {
     "data": {
      "text/plain": [
       "1"
      ]
     },
     "execution_count": 15,
     "metadata": {},
     "output_type": "execute_result"
    }
   ],
   "source": [
    "t.count(5) # Tuple has only two function support itself."
   ]
  },
  {
   "cell_type": "code",
   "execution_count": 18,
   "id": "e24ef803-b77f-4f9f-940c-785b3f344117",
   "metadata": {},
   "outputs": [
    {
     "data": {
      "text/plain": [
       "4"
      ]
     },
     "execution_count": 18,
     "metadata": {},
     "output_type": "execute_result"
    }
   ],
   "source": [
    "t.index('Abhi')"
   ]
  },
  {
   "cell_type": "code",
   "execution_count": 19,
   "id": "ecd3c370-000c-4eea-a2e5-48ca1c5bdb5e",
   "metadata": {},
   "outputs": [],
   "source": [
    "# Set "
   ]
  },
  {
   "cell_type": "code",
   "execution_count": 20,
   "id": "fc68d448-d6ec-47ab-ae95-966b0ed6fd25",
   "metadata": {},
   "outputs": [],
   "source": [
    "s1={}"
   ]
  },
  {
   "cell_type": "code",
   "execution_count": 21,
   "id": "5278f211-3b22-48b9-938c-0a7457d1b0f5",
   "metadata": {},
   "outputs": [
    {
     "data": {
      "text/plain": [
       "dict"
      ]
     },
     "execution_count": 21,
     "metadata": {},
     "output_type": "execute_result"
    }
   ],
   "source": [
    "type(s1)  # 1:47:22"
   ]
  },
  {
   "cell_type": "code",
   "execution_count": 1,
   "id": "7db78821-241e-48b1-b7b2-08ee7e4644b9",
   "metadata": {},
   "outputs": [],
   "source": [
    "s2 = {4,6,7,8,67}"
   ]
  },
  {
   "cell_type": "code",
   "execution_count": 4,
   "id": "b13f39c6-dcfd-4a4d-bb5e-ece99b2cc0da",
   "metadata": {},
   "outputs": [
    {
     "data": {
      "text/plain": [
       "set"
      ]
     },
     "execution_count": 4,
     "metadata": {},
     "output_type": "execute_result"
    }
   ],
   "source": [
    "type(s2)"
   ]
  },
  {
   "cell_type": "code",
   "execution_count": 5,
   "id": "b8752ebb-cdff-4e0a-816f-c89d31773bae",
   "metadata": {},
   "outputs": [
    {
     "ename": "TypeError",
     "evalue": "unhashable type: 'list'",
     "output_type": "error",
     "traceback": [
      "\u001b[0;31m---------------------------------------------------------------------------\u001b[0m",
      "\u001b[0;31mTypeError\u001b[0m                                 Traceback (most recent call last)",
      "Cell \u001b[0;32mIn[5], line 1\u001b[0m\n\u001b[0;32m----> 1\u001b[0m s3 \u001b[38;5;241m=\u001b[39m {\u001b[38;5;241m4\u001b[39m,\u001b[38;5;241m5\u001b[39m,\u001b[38;5;241m6\u001b[39m,\u001b[38;5;241m7\u001b[39m,\u001b[38;5;241m8\u001b[39m,\u001b[38;5;241m45\u001b[39m,\u001b[38;5;241m6\u001b[39m\u001b[38;5;241m+\u001b[39m\u001b[38;5;241m8\u001b[39mj,\u001b[38;5;124m\"\u001b[39m\u001b[38;5;124mAbhi\u001b[39m\u001b[38;5;124m\"\u001b[39m,\u001b[38;5;241m45.67\u001b[39m,[\u001b[38;5;241m1\u001b[39m,\u001b[38;5;241m2\u001b[39m,\u001b[38;5;241m3\u001b[39m]}\n",
      "\u001b[0;31mTypeError\u001b[0m: unhashable type: 'list'"
     ]
    }
   ],
   "source": [
    "s3 = {4,5,6,7,8,45,6+8j,\"Abhi\",45.67,[1,2,3]} # Set does not support list (Inmutable data)."
   ]
  },
  {
   "cell_type": "code",
   "execution_count": 8,
   "id": "d631ca69-e36a-4123-94a0-723a538bac38",
   "metadata": {},
   "outputs": [],
   "source": [
    "s4 = {4,5,6,7,8,45,6+8j,\"Abhi\",45.67,(1,2,3)} # Set supports the mutable data (means tuples)."
   ]
  },
  {
   "cell_type": "code",
   "execution_count": 9,
   "id": "0ac4240d-84ff-4f81-bef1-ce46cf2a1bd2",
   "metadata": {},
   "outputs": [
    {
     "data": {
      "text/plain": [
       "{(1, 2, 3), (6+8j), 4, 45, 45.67, 5, 6, 7, 8, 'Abhi'}"
      ]
     },
     "execution_count": 9,
     "metadata": {},
     "output_type": "execute_result"
    }
   ],
   "source": [
    "s4"
   ]
  },
  {
   "cell_type": "code",
   "execution_count": 10,
   "id": "cebd69f6-95bd-4830-85cb-6beef60afea5",
   "metadata": {},
   "outputs": [],
   "source": [
    "s5 = {1,2,3,4,5,2,3,1,4,5,5,3,5,6,3,3,2,1,\"Abhi\",\"abhi\"}"
   ]
  },
  {
   "cell_type": "code",
   "execution_count": 11,
   "id": "9054b7d7-b504-436f-8d0e-9afee0c02c8f",
   "metadata": {},
   "outputs": [
    {
     "data": {
      "text/plain": [
       "{1, 2, 3, 4, 5, 6, 'Abhi', 'abhi'}"
      ]
     },
     "execution_count": 11,
     "metadata": {},
     "output_type": "execute_result"
    }
   ],
   "source": [
    "s5   # Python is a case sensitive language and set reflects the unique results."
   ]
  },
  {
   "cell_type": "code",
   "execution_count": 12,
   "id": "da952899-feb3-429a-8c63-97239f75e809",
   "metadata": {},
   "outputs": [],
   "source": [
    "l6 = [1,2,3,4,5,2,3,1,4,5,5,3,5,6,3,3,2,1,\"Abhi\",\"abhi\"]"
   ]
  },
  {
   "cell_type": "code",
   "execution_count": 13,
   "id": "cc23a8ac-35a1-4dab-948f-9d29a6dadc03",
   "metadata": {},
   "outputs": [
    {
     "data": {
      "text/plain": [
       "{1, 2, 3, 4, 5, 6, 'Abhi', 'abhi'}"
      ]
     },
     "execution_count": 13,
     "metadata": {},
     "output_type": "execute_result"
    }
   ],
   "source": [
    "set(l6) # List can be converted into set by using set as a function."
   ]
  },
  {
   "cell_type": "code",
   "execution_count": 14,
   "id": "627c0b1b-19c4-4ba8-a0a5-f6bb0d08d77c",
   "metadata": {},
   "outputs": [
    {
     "data": {
      "text/plain": [
       "[1, 2, 3, 4, 5, 6, 'Abhi', 'abhi']"
      ]
     },
     "execution_count": 14,
     "metadata": {},
     "output_type": "execute_result"
    }
   ],
   "source": [
    "list(set(l6)) # Typecasting the set into list."
   ]
  },
  {
   "cell_type": "code",
   "execution_count": 15,
   "id": "890177d6-5622-43ea-bc5e-5b3ebdac90bd",
   "metadata": {},
   "outputs": [],
   "source": [
    "s6 = {23,35,45,23,3,56,\"Abhi\",678,34}"
   ]
  },
  {
   "cell_type": "code",
   "execution_count": 16,
   "id": "f246222a-7837-44d0-8a0d-9353247375b1",
   "metadata": {},
   "outputs": [
    {
     "data": {
      "text/plain": [
       "{23, 3, 34, 35, 45, 56, 678, 'Abhi'}"
      ]
     },
     "execution_count": 16,
     "metadata": {},
     "output_type": "execute_result"
    }
   ],
   "source": [
    "s6"
   ]
  },
  {
   "cell_type": "code",
   "execution_count": 17,
   "id": "d000ab29-3924-493e-a97f-71b325886717",
   "metadata": {},
   "outputs": [
    {
     "ename": "TypeError",
     "evalue": "'set' object is not subscriptable",
     "output_type": "error",
     "traceback": [
      "\u001b[0;31m---------------------------------------------------------------------------\u001b[0m",
      "\u001b[0;31mTypeError\u001b[0m                                 Traceback (most recent call last)",
      "Cell \u001b[0;32mIn[17], line 1\u001b[0m\n\u001b[0;32m----> 1\u001b[0m \u001b[43ms6\u001b[49m\u001b[43m[\u001b[49m\u001b[38;5;241;43m0\u001b[39;49m\u001b[43m]\u001b[49m\n",
      "\u001b[0;31mTypeError\u001b[0m: 'set' object is not subscriptable"
     ]
    }
   ],
   "source": [
    "s6[0] # In case of set there is no indexing will work."
   ]
  },
  {
   "cell_type": "code",
   "execution_count": 18,
   "id": "a78c088a-3629-43de-9503-ca0c70a7e004",
   "metadata": {},
   "outputs": [
    {
     "ename": "TypeError",
     "evalue": "'set' object is not subscriptable",
     "output_type": "error",
     "traceback": [
      "\u001b[0;31m---------------------------------------------------------------------------\u001b[0m",
      "\u001b[0;31mTypeError\u001b[0m                                 Traceback (most recent call last)",
      "Cell \u001b[0;32mIn[18], line 1\u001b[0m\n\u001b[0;32m----> 1\u001b[0m \u001b[43ms6\u001b[49m\u001b[43m[\u001b[49m\u001b[43m:\u001b[49m\u001b[43m:\u001b[49m\u001b[38;5;241;43m-\u001b[39;49m\u001b[38;5;241;43m1\u001b[39;49m\u001b[43m]\u001b[49m\n",
      "\u001b[0;31mTypeError\u001b[0m: 'set' object is not subscriptable"
     ]
    }
   ],
   "source": [
    "s6[::-1] # In case of set there is no slicing will work."
   ]
  },
  {
   "cell_type": "code",
   "execution_count": 19,
   "id": "9d203300-cbf2-4b99-86a1-0768a0155af3",
   "metadata": {},
   "outputs": [],
   "source": [
    "s6.add(6)"
   ]
  },
  {
   "cell_type": "code",
   "execution_count": 20,
   "id": "69640430-5431-477d-b27b-244f0fb49b78",
   "metadata": {},
   "outputs": [
    {
     "data": {
      "text/plain": [
       "{23, 3, 34, 35, 45, 56, 6, 678, 'Abhi'}"
      ]
     },
     "execution_count": 20,
     "metadata": {},
     "output_type": "execute_result"
    }
   ],
   "source": [
    "s6"
   ]
  },
  {
   "cell_type": "code",
   "execution_count": 21,
   "id": "b8b49064-2424-46e3-8686-24166f5653bd",
   "metadata": {},
   "outputs": [],
   "source": [
    "s6.remove(3)"
   ]
  },
  {
   "cell_type": "code",
   "execution_count": 22,
   "id": "bd486640-d29a-427f-a528-fbe37ea49dd5",
   "metadata": {},
   "outputs": [
    {
     "data": {
      "text/plain": [
       "{23, 34, 35, 45, 56, 6, 678, 'Abhi'}"
      ]
     },
     "execution_count": 22,
     "metadata": {},
     "output_type": "execute_result"
    }
   ],
   "source": [
    "s6"
   ]
  },
  {
   "cell_type": "code",
   "execution_count": null,
   "id": "6e4543b3-b588-43a6-ba76-164235029478",
   "metadata": {},
   "outputs": [],
   "source": []
  }
 ],
 "metadata": {
  "kernelspec": {
   "display_name": "Python 3 (ipykernel)",
   "language": "python",
   "name": "python3"
  },
  "language_info": {
   "codemirror_mode": {
    "name": "ipython",
    "version": 3
   },
   "file_extension": ".py",
   "mimetype": "text/x-python",
   "name": "python",
   "nbconvert_exporter": "python",
   "pygments_lexer": "ipython3",
   "version": "3.10.8"
  }
 },
 "nbformat": 4,
 "nbformat_minor": 5
}
